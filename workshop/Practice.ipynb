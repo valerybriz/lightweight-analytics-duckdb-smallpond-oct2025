{
 "cells": [
  {
   "metadata": {},
   "cell_type": "markdown",
   "source": [
    "# Excercises\n",
    "\n",
    "Let's Explore Smallpond Functionalities"
   ],
   "id": "8a77807f92f26ee"
  },
  {
   "metadata": {},
   "cell_type": "markdown",
   "source": "## Imports",
   "id": "a3ce8cedf6fbb76c"
  },
  {
   "metadata": {},
   "cell_type": "code",
   "outputs": [],
   "execution_count": null,
   "source": [
    "import ray\n",
    "import pandas as pd\n",
    "import pyarrow.parquet as pq\n",
    "from smallpond import init as smallpond_init"
   ],
   "id": "7167f352b6c8b04b"
  },
  {
   "metadata": {},
   "cell_type": "markdown",
   "source": "## Initialize everything (if running locally)",
   "id": "a8291e0e646c5bbe"
  },
  {
   "metadata": {},
   "cell_type": "code",
   "outputs": [],
   "execution_count": null,
   "source": [
    "# Get's the data from the parquet file (in your bucket) using PyArrow\n",
    "a_table = pq.read_table(\"s3://my-data/data/sample.parquet\")\n",
    "\n",
    "# Initialize Ray\n",
    "ray.init(address=\"ray://localhost:10001\")\n",
    "\n",
    "# Smallpond is pointing the ray head at ray://localhost:10001\n",
    "sp = smallpond_init(job_name=\"ProcessingTest\", ray_address=\"ray://localhost:10001\", data_root=\"data\", num_executors=2, bind_numa_node=False, executor_resources={\"CPU\": 4,\"memory\": 8,\"object_store_memory\": 2*1024})\n"
   ],
   "id": "fbc121e30a2defb3"
  },
  {
   "metadata": {},
   "cell_type": "markdown",
   "source": "# Pandas equivalents",
   "id": "342ed2304a706a87"
  },
  {
   "metadata": {},
   "cell_type": "markdown",
   "source": "Read a parquet File",
   "id": "17965f897b78ea3a"
  },
  {
   "metadata": {},
   "cell_type": "code",
   "outputs": [],
   "execution_count": null,
   "source": [
    "#Pandas\n",
    "df = pd.read_parquet(\"sample.parquet\")\n",
    "df"
   ],
   "id": "63faec142b5440cc"
  },
  {
   "metadata": {},
   "cell_type": "code",
   "outputs": [],
   "execution_count": null,
   "source": [
    "#Smallpond\n",
    "sdf = sp.from_arrow(a_table)\n",
    "print(sdf.take(10))"
   ],
   "id": "b951b8b1d3c91d9c"
  },
  {
   "metadata": {},
   "cell_type": "markdown",
   "source": "Convert a PyArrow df to pandas (could be a result from smallpond)",
   "id": "b76c1ad27fc5f72e"
  },
  {
   "metadata": {},
   "cell_type": "code",
   "outputs": [],
   "execution_count": null,
   "source": "sdf.to_pandas()",
   "id": "e993825d994474ed"
  },
  {
   "metadata": {},
   "cell_type": "markdown",
   "source": "Save a Data Frame to a Parquet file",
   "id": "b1283b09ca9b99f4"
  },
  {
   "metadata": {},
   "cell_type": "code",
   "outputs": [],
   "execution_count": null,
   "source": [
    "#Pandas\n",
    "df.to_parquet(output_path=\"new.parquet\")"
   ],
   "id": "6df2446441525b89"
  },
  {
   "metadata": {},
   "cell_type": "code",
   "outputs": [],
   "execution_count": null,
   "source": [
    "#Smallpond\n",
    "sdf.write_parquet(\"new_sp.parquet\")"
   ],
   "id": "86df2b276fd67b93"
  },
  {
   "metadata": {},
   "cell_type": "markdown",
   "source": "Filter conditions",
   "id": "ae98756c39bfa62e"
  },
  {
   "metadata": {},
   "cell_type": "code",
   "outputs": [],
   "execution_count": null,
   "source": [
    "# Pandas\n",
    "filtered_df = df[df[\"model\"] == \"ST4000DM000\"]\n",
    "filtered_df.head()"
   ],
   "id": "baf111f03985a71f"
  },
  {
   "metadata": {},
   "cell_type": "code",
   "outputs": [],
   "execution_count": null,
   "source": [
    "# Smallpond filter\n",
    "\n",
    "filtered_sdf = sdf.filter(\"model = 'ST4000DM000'\")\n",
    "print(filtered_sdf.take(10))"
   ],
   "id": "c8e92c18451094ea"
  },
  {
   "metadata": {},
   "cell_type": "markdown",
   "source": "Mapped execution/ Apply",
   "id": "833c2f05adaadf39"
  },
  {
   "metadata": {},
   "cell_type": "code",
   "outputs": [],
   "execution_count": null,
   "source": [
    "#Pandas\n",
    "df[\"total_1_3\"] = df[\"smart_1_normalized\"] + df[\"smart_3_normalized\"]\n",
    "df[\"total_1_3\"]"
   ],
   "id": "e69d0a4cd1e9b818"
  },
  {
   "metadata": {},
   "cell_type": "code",
   "outputs": [],
   "execution_count": null,
   "source": [
    "# Smallpond\n",
    "sdf = sdf.map(\"smart_1_normalized + smart_3_normalized as total_1_3\")\n",
    "print(sdf.to_pandas()[\"total_1_3\"])"
   ],
   "id": "efabd58065cc7001"
  },
  {
   "metadata": {},
   "cell_type": "markdown",
   "source": "# Smallpond Specifics",
   "id": "5b59b75df1ccc9bc"
  },
  {
   "metadata": {},
   "cell_type": "markdown",
   "source": "Partial SQL Query, Executes the query over the distributed data",
   "id": "2ffc034a2910fb86"
  },
  {
   "metadata": {},
   "cell_type": "code",
   "source": [
    "results_df = sp.partial_sql(\"SELECT datacenter, SUM(smart_1_normalized) FROM {0} GROUP BY datacenter\", sdf)\n",
    "results_df.take(10)"
   ],
   "id": "f17913419e18a736",
   "outputs": [],
   "execution_count": null
  },
  {
   "metadata": {},
   "cell_type": "markdown",
   "source": "Repartitioning output",
   "id": "929201d556459260"
  },
  {
   "metadata": {},
   "cell_type": "code",
   "outputs": [],
   "execution_count": null,
   "source": [
    "num_partitions = 5\n",
    "sdf = sdf.repartition(num_partitions, hash_by=\"datacenter\")\n",
    "sdf.write_parquet(\"new_sp_directory\")"
   ],
   "id": "dc99c70809e7d84b"
  },
  {
   "metadata": {},
   "cell_type": "markdown",
   "source": "## ShutDown Ray",
   "id": "18131d384b0a9c11"
  },
  {
   "metadata": {},
   "cell_type": "code",
   "outputs": [],
   "execution_count": null,
   "source": "ray.shutdown()",
   "id": "317734ac51a023b"
  }
 ],
 "metadata": {
  "kernelspec": {
   "display_name": "Python 3",
   "language": "python",
   "name": "python3"
  },
  "language_info": {
   "codemirror_mode": {
    "name": "ipython",
    "version": 2
   },
   "file_extension": ".py",
   "mimetype": "text/x-python",
   "name": "python",
   "nbconvert_exporter": "python",
   "pygments_lexer": "ipython2",
   "version": "2.7.6"
  }
 },
 "nbformat": 4,
 "nbformat_minor": 5
}
