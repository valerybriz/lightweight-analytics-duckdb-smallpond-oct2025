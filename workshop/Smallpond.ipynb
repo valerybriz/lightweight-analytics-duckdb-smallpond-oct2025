{
 "cells": [
  {
   "cell_type": "markdown",
   "id": "8a77807f92f26ee",
   "metadata": {},
   "source": [
    "# Smallpond\n",
    "\n",
    "In this Notebook we will be focusing in testing the current environment and getting to know the tools that are involved"
   ]
  },
  {
   "cell_type": "markdown",
   "id": "c016e26383dd2cf7",
   "metadata": {},
   "source": [
    "## Imports"
   ]
  },
  {
   "cell_type": "code",
   "execution_count": 1,
   "id": "fbc121e30a2defb3",
   "metadata": {
    "ExecuteTime": {
     "end_time": "2025-10-21T20:54:23.179815Z",
     "start_time": "2025-10-21T20:54:20.462843Z"
    }
   },
   "outputs": [],
   "source": [
    "import ray\n",
    "from minio import Minio\n",
    "import os\n",
    "import duckdb\n",
    "import pandas as pd\n",
    "import pyarrow.parquet as pq\n",
    "from smallpond import init as smallpond_init"
   ]
  },
  {
   "cell_type": "markdown",
   "id": "5aec3124be47df77",
   "metadata": {},
   "source": [
    "## Testing pandas and duckdb\n",
    "In the following code you will create a simple pandas dataframe and then query it with duckdb and SQL"
   ]
  },
  {
   "cell_type": "code",
   "execution_count": 2,
   "id": "a2f03bbdc36a1c8d",
   "metadata": {
    "ExecuteTime": {
     "end_time": "2025-10-21T20:54:24.993981Z",
     "start_time": "2025-10-21T20:54:24.985217Z"
    }
   },
   "outputs": [
    {
     "name": "stdout",
     "output_type": "stream",
     "text": [
      "   avg_value\n",
      "0       30.0\n"
     ]
    }
   ],
   "source": [
    "df = pd.DataFrame({\"value\": [10, 20, 30, 40, 50]})\n",
    "result = duckdb.query(\"SELECT AVG(value) AS avg_value FROM df\").to_df()\n",
    "print(result)"
   ]
  },
  {
   "cell_type": "markdown",
   "id": "b676909e1ac6b922",
   "metadata": {},
   "source": [
    "## Testing Ray\n",
    "You need to initialize Ray before running Smallpond. By sending the parameter address we are making sure to point to the correct Ray cluster."
   ]
  },
  {
   "cell_type": "code",
   "execution_count": 3,
   "id": "bd8ccaf1518d8a80",
   "metadata": {},
   "outputs": [
    {
     "name": "stdout",
     "output_type": "stream",
     "text": [
      "initializing ray>>>>\n",
      "Connected to Ray cluster: {'node:172.18.0.3': 1.0, 'CPU': 36.0, 'memory': 15675961346.0, 'object_store_memory': 7028316978.0, 'node:172.18.0.4': 1.0, 'node:__internal_head__': 1.0, 'node:172.18.0.5': 1.0}\n"
     ]
    }
   ],
   "source": [
    "print(\"initializing ray>>>>\")\n",
    "ray.init(address=\"ray://localhost:10001\")  # Connects to ray-head which is running inside the cluster\n",
    "print(\"Connected to Ray cluster:\", ray.cluster_resources())\n"
   ]
  },
  {
   "cell_type": "code",
   "execution_count": 4,
   "id": "2843aabce3d96ed6",
   "metadata": {},
   "outputs": [
    {
     "name": "stdout",
     "output_type": "stream",
     "text": [
      "Running Ray tasks...\n",
      "Results: [0, 1, 4, 9]\n",
      "Shutting down Ray\n"
     ]
    }
   ],
   "source": [
    "@ray.remote\n",
    "def f(x):\n",
    "    return x * x\n",
    "\n",
    "print(\"Running Ray tasks...\")\n",
    "results = ray.get([f.remote(i) for i in range(4)])\n",
    "print(\"Results:\", results)\n",
    "\n",
    "print(\"Shutting down Ray\")\n",
    "ray.shutdown()"
   ]
  },
  {
   "cell_type": "markdown",
   "id": "655e1f92add004f1",
   "metadata": {},
   "source": [
    "If you don't initialize ray then Smallpond will initialize a single node local ray cluster but in that case we are missing the distribution power of Smallpond."
   ]
  },
  {
   "cell_type": "markdown",
   "id": "d96c89ac25aa23d9",
   "metadata": {},
   "source": [
    "## Testing MinIO"
   ]
  },
  {
   "cell_type": "code",
   "execution_count": 5,
   "id": "94232eadd748b68e",
   "metadata": {},
   "outputs": [
    {
     "name": "stdout",
     "output_type": "stream",
     "text": [
      "Bucket already exists: my-data\n",
      "File 'sample.parquet' uploaded as 'data/sample.parquet' to bucket 'my-data'.\n"
     ]
    }
   ],
   "source": [
    "# Connect to MinIO\n",
    "minio_client = Minio(\n",
    "    endpoint=os.environ.get(\"MINIO_ENDPOINT\", \"http://localhost:9000\").replace(\"http://\", \"\"),\n",
    "    access_key=os.environ.get(\"MINIO_ACCESS_KEY\", \"minioadmin\"),\n",
    "    secret_key=os.environ.get(\"MINIO_SECRET_KEY\", \"minioadmin\"),\n",
    "    secure=False,\n",
    ")\n",
    "\n",
    "# Create a bucket if it doesn’t exist\n",
    "bucket_name = \"my-data\"\n",
    "if not minio_client.bucket_exists(bucket_name):\n",
    "    minio_client.make_bucket(bucket_name)\n",
    "    print(f\"Created bucket: {bucket_name}\")\n",
    "else:\n",
    "    print(f\"Bucket already exists: {bucket_name}\")\n",
    "\n",
    "object_name = \"data/sample.parquet\"\n",
    "local_file_path = \"sample.parquet\"  # \"/Full/ path /to /your /file/data/sample.parquet\"\n",
    "# Upload the file\n",
    "minio_client.fput_object(\n",
    "            bucket_name,\n",
    "            object_name,\n",
    "            local_file_path,\n",
    ")\n",
    "print(f\"File '{local_file_path}' uploaded as '{object_name}' to bucket '{bucket_name}'.\")"
   ]
  },
  {
   "cell_type": "markdown",
   "id": "6ec647a1577c82a2",
   "metadata": {},
   "source": [
    "### Let's go to the MinIO dashboard"
   ]
  },
  {
   "cell_type": "markdown",
   "id": "cd810435906c92c8",
   "metadata": {},
   "source": [
    "## Testing Smallpond\n",
    "In your virtual environment make sure to have the correct MinIO credentials running the following line:"
   ]
  },
  {
   "cell_type": "code",
   "execution_count": 3,
   "id": "3b8ea550a3993a48",
   "metadata": {
    "ExecuteTime": {
     "end_time": "2025-10-22T02:45:16.825982Z",
     "start_time": "2025-10-22T02:45:16.822379Z"
    }
   },
   "outputs": [],
   "source": [
    "os.environ[\"AWS_ACCESS_KEY_ID\"] = \"minioadmin\"\n",
    "os.environ[\"AWS_SECRET_ACCESS_KEY\"] = \"minioadmin\"\n",
    "os.environ[\"AWS_REGION\"] = \"us-east-1\"\n",
    "os.environ[\"AWS_ENDPOINT_URL\"] = \"http://localhost:9000\""
   ]
  },
  {
   "cell_type": "markdown",
   "id": "f0a600b15a5c8e34",
   "metadata": {},
   "source": [
    "This way we can pull data directly like we do from an S3 bucket with the notation: s3://"
   ]
  },
  {
   "cell_type": "code",
   "execution_count": 4,
   "id": "ecba9537f87362b4",
   "metadata": {},
   "outputs": [],
   "source": [
    "# Get's the data from the parquet file (in your bucket) using PyArrow\n",
    "a_table = pq.read_table(\"s3://my-data/data/sample.parquet\")"
   ]
  },
  {
   "cell_type": "markdown",
   "id": "c9079e023d8aad15",
   "metadata": {},
   "source": [
    "Initialize Ray and Smallpond"
   ]
  },
  {
   "cell_type": "code",
   "execution_count": 5,
   "id": "85c66f4012db95fc",
   "metadata": {},
   "outputs": [
    {
     "name": "stderr",
     "output_type": "stream",
     "text": [
      "SIGTERM handler is not set because current thread is not the main thread.\n"
     ]
    },
    {
     "name": "stdout",
     "output_type": "stream",
     "text": [
      "[2025-10-23 11:16:42.759586] [ZG-KPVW7DJYWV] [MainProcess(47988)] [task.py:414] INFO initialized logging to file: /Users/valeryca/PycharmProjects/lightweight-analytics-duckdb-smallpond-oct2025/workshop/notebooks/data/2025-10-23-11-16-42.16c098be-78b2-4ea9-bcc7-2c8d55556e39/log/ZG-KPVW7DJYWV.log\n",
      "[2025-10-23 11:16:42.763226] [ZG-KPVW7DJYWV] [MainProcess(47988)] [task.py:426] INFO initialized user logging to file: /Users/valeryca/PycharmProjects/lightweight-analytics-duckdb-smallpond-oct2025/workshop/notebooks/data/2025-10-23-11-16-42.16c098be-78b2-4ea9-bcc7-2c8d55556e39/log/ZG-KPVW7DJYWV-user.log\n",
      "[2025-10-23 11:16:42.763545] [ZG-KPVW7DJYWV] [MainProcess(47988)] [task.py:371] INFO set environment variable 'LD_LIBRARY_PATH': '/Users/valeryca/PycharmProjects/lightweight-analytics-duckdb-smallpond-oct2025/.venv/lib:'\n",
      "[2025-10-23 11:16:42.763638] [ZG-KPVW7DJYWV] [MainProcess(47988)] [task.py:373] INFO RANK='' LD_LIBRARY_PATH='/Users/valeryca/PycharmProjects/lightweight-analytics-duckdb-smallpond-oct2025/.venv/lib:' LD_PRELOAD='' MALLOC_CONF=''\n",
      "[2025-10-23 11:16:42.763706] [ZG-KPVW7DJYWV] [MainProcess(47988)] [task.py:333] INFO smallpond version: 0.15.0\n",
      "[2025-10-23 11:16:42.763972] [ZG-KPVW7DJYWV] [MainProcess(47988)] [task.py:334] INFO runtime context:\n",
      "{'bind_numa_node': False,\n",
      " 'completed_task_dir': '/Users/valeryca/PycharmProjects/lightweight-analytics-duckdb-smallpond-oct2025/workshop/notebooks/data/2025-10-23-11-16-42.16c098be-78b2-4ea9-bcc7-2c8d55556e39/staging/completed_tasks',\n",
      " 'config_root': '/Users/valeryca/PycharmProjects/lightweight-analytics-duckdb-smallpond-oct2025/workshop/notebooks/data/2025-10-23-11-16-42.16c098be-78b2-4ea9-bcc7-2c8d55556e39/config',\n",
      " 'console_log_level': 'INFO',\n",
      " 'current_task': None,\n",
      " 'data_root': 'data',\n",
      " 'disable_log_rotation': False,\n",
      " 'enable_diagnostic_metrics': False,\n",
      " 'enable_profiling': False,\n",
      " 'enforce_memory_limit': False,\n",
      " 'env_overrides': {},\n",
      " 'fault_inject_prob': 0.0,\n",
      " 'file_log_level': 'DEBUG',\n",
      " 'final_output_path': None,\n",
      " 'job_id': JobId('16c098be-78b2-4ea9-bcc7-2c8d55556e39'),\n",
      " 'job_root': '/Users/valeryca/PycharmProjects/lightweight-analytics-duckdb-smallpond-oct2025/workshop/notebooks/data/2025-10-23-11-16-42.16c098be-78b2-4ea9-bcc7-2c8d55556e39',\n",
      " 'job_time': datetime.datetime(2025, 10, 23, 11, 16, 42, 739217),\n",
      " 'log_root': '/Users/valeryca/PycharmProjects/lightweight-analytics-duckdb-smallpond-oct2025/workshop/notebooks/data/2025-10-23-11-16-42.16c098be-78b2-4ea9-bcc7-2c8d55556e39/log',\n",
      " 'max_num_missed_probes': 6,\n",
      " 'max_usable_cpu_count': 1024,\n",
      " 'max_usable_gpu_count': 1024,\n",
      " 'max_usable_memory_size': 17592186044416,\n",
      " 'next_task_id': 0,\n",
      " 'num_executors': 2,\n",
      " 'numa_node_id': None,\n",
      " 'output_root': '/Users/valeryca/PycharmProjects/lightweight-analytics-duckdb-smallpond-oct2025/workshop/notebooks/data/2025-10-23-11-16-42.16c098be-78b2-4ea9-bcc7-2c8d55556e39/output',\n",
      " 'queue_root': '/Users/valeryca/PycharmProjects/lightweight-analytics-duckdb-smallpond-oct2025/workshop/notebooks/data/2025-10-23-11-16-42.16c098be-78b2-4ea9-bcc7-2c8d55556e39/queue',\n",
      " 'random_seed': 145429438812546326328934736680301587136661865661582855582368208875065248467470827324339510281159364415676964738784361919281664680814447093059267575565209516964267767787893772432961783977544580683214674296468676283855657879546738838879986729744091721709891498071044380929599367397050069403136793317480914060978,\n",
      " 'remove_empty_parquet': False,\n",
      " 'secs_executor_probe_interval': 30,\n",
      " 'secs_wq_poll_interval': 0.5,\n",
      " 'shared_log_root': None,\n",
      " 'skip_task_with_empty_input': False,\n",
      " 'staging_root': '/Users/valeryca/PycharmProjects/lightweight-analytics-duckdb-smallpond-oct2025/workshop/notebooks/data/2025-10-23-11-16-42.16c098be-78b2-4ea9-bcc7-2c8d55556e39/staging',\n",
      " 'started_task_dir': '/Users/valeryca/PycharmProjects/lightweight-analytics-duckdb-smallpond-oct2025/workshop/notebooks/data/2025-10-23-11-16-42.16c098be-78b2-4ea9-bcc7-2c8d55556e39/staging/started_tasks',\n",
      " 'temp_root': '/Users/valeryca/PycharmProjects/lightweight-analytics-duckdb-smallpond-oct2025/workshop/notebooks/data/2025-10-23-11-16-42.16c098be-78b2-4ea9-bcc7-2c8d55556e39/temp'}\n",
      "[2025-10-23 11:16:42.769159] [ZG-KPVW7DJYWV] [MainProcess(47988)] [task.py:335] INFO local GPUs: []\n",
      "[2025-10-23 11:16:42.769381] [ZG-KPVW7DJYWV] [MainProcess(47988)] [session.py:55] INFO using platform: Platform\n",
      "[2025-10-23 11:16:42.769463] [ZG-KPVW7DJYWV] [MainProcess(47988)] [session.py:56] INFO command-line arguments: /Users/valeryca/PycharmProjects/lightweight-analytics-duckdb-smallpond-oct2025/.venv/lib/python3.11/site-packages/ipykernel_launcher.py -f /Users/valeryca/Library/Jupyter/runtime/kernel-aca8b0d5-02e2-4c0d-bf68-bbabc4b48034.json\n",
      "[2025-10-23 11:16:42.769585] [ZG-KPVW7DJYWV] [MainProcess(47988)] [session.py:57] INFO session config: Config(job_id='16c098be-78b2-4ea9-bcc7-2c8d55556e39', job_time=datetime.datetime(2025, 10, 23, 11, 16, 42, 739217), data_root='data', num_executors=2, ray_address='ray://localhost:10001', bind_numa_node=False, memory_allocator='system', remove_output_root=True)\n",
      "[2025-10-23 11:16:42.769665] [ZG-KPVW7DJYWV] [MainProcess(47988)] [session.py:123] INFO connected to ray cluster at ray://localhost:10001\n",
      "[2025-10-23 11:16:42.789700] [ZG-KPVW7DJYWV] [MainProcess(47988)] [dataframe.py:234] INFO optimizing\n",
      "DataSourceNode-000001: input_deps=[], output_name=None, tasks[0]=[]...[], resource_limit=1CPUs/0GPUs/0GB, dataset=<ArrowTableDataSet: paths[0]=[]...', root_dir=/Users/valeryca/PycharmProjects/lightweight-analytics-duckdb-smallpond-oct2025/workshop/notebooks, columns=None>, file= /var/folders/lr/_bvhwjgn58bdmmyqz9l8hsyc0000gp/T/ipykernel_47988/385755028.py:7\n",
      "[2025-10-23 11:16:42.789922] [ZG-KPVW7DJYWV] [MainProcess(47988)] [dataframe.py:238] INFO optimized\n",
      "DataSourceNode-000001: input_deps=[], output_name=None, tasks[0]=[]...[], resource_limit=1CPUs/0GPUs/0GB, dataset=<ArrowTableDataSet: paths[0]=[]...', root_dir=/Users/valeryca/PycharmProjects/lightweight-analytics-duckdb-smallpond-oct2025/workshop/notebooks, columns=None>, file= /var/folders/lr/_bvhwjgn58bdmmyqz9l8hsyc0000gp/T/ipykernel_47988/385755028.py:7\n"
     ]
    },
    {
     "name": "stderr",
     "output_type": "stream",
     "text": [
      "WARNING: All log messages before absl::InitializeLog() is called are written to STDERR\n",
      "I0000 00:00:1761239802.749136  770857 fork_posix.cc:71] Other threads are currently calling into gRPC, skipping fork() handlers\n",
      "I0000 00:00:1761239802.764327  770857 fork_posix.cc:71] Other threads are currently calling into gRPC, skipping fork() handlers\n",
      "I0000 00:00:1761239802.770149  770857 fork_posix.cc:71] Other threads are currently calling into gRPC, skipping fork() handlers\n",
      "I0000 00:00:1761239802.774529  770857 fork_posix.cc:71] Other threads are currently calling into gRPC, skipping fork() handlers\n"
     ]
    },
    {
     "ename": "RayTaskError(FileNotFoundError)",
     "evalue": "\u001b[36mray::000001.DataSourceTask()\u001b[39m (pid=465, ip=172.18.0.3)\n  File \"/Users/valeryca/PycharmProjects/lightweight-analytics-duckdb-smallpond-oct2025/.venv/lib/python3.11/site-packages/smallpond/execution/task.py\", line 1152, in exec_task\n  File \"/home/ray/anaconda3/lib/python3.11/pathlib.py\", line 1108, in touch\n    fd = os.open(self, flags, mode)\n         ^^^^^^^^^^^^^^^^^^^^^^^^^^\nFileNotFoundError: [Errno 2] No such file or directory: '/Users/valeryca/PycharmProjects/lightweight-analytics-duckdb-smallpond-oct2025/workshop/notebooks/data/2025-10-23-11-16-42.16c098be-78b2-4ea9-bcc7-2c8d55556e39/staging/started_tasks/000001.DataSourceTask-000001.0'",
     "output_type": "error",
     "traceback": [
      "\u001b[31m---------------------------------------------------------------------------\u001b[39m",
      "\u001b[31mRayTaskError(FileNotFoundError)\u001b[39m           Traceback (most recent call last)",
      "\u001b[36mCell\u001b[39m\u001b[36m \u001b[39m\u001b[32mIn[5]\u001b[39m\u001b[32m, line 8\u001b[39m\n\u001b[32m      5\u001b[39m sp = smallpond_init(job_name=\u001b[33m\"\u001b[39m\u001b[33mProcessingTest\u001b[39m\u001b[33m\"\u001b[39m, ray_address=\u001b[33m\"\u001b[39m\u001b[33mray://localhost:10001\u001b[39m\u001b[33m\"\u001b[39m, data_root=\u001b[33m\"\u001b[39m\u001b[33mdata\u001b[39m\u001b[33m\"\u001b[39m, num_executors=\u001b[32m2\u001b[39m, bind_numa_node=\u001b[38;5;28;01mFalse\u001b[39;00m, executor_resources={\u001b[33m\"\u001b[39m\u001b[33mCPU\u001b[39m\u001b[33m\"\u001b[39m: \u001b[32m4\u001b[39m,\u001b[33m\"\u001b[39m\u001b[33mmemory\u001b[39m\u001b[33m\"\u001b[39m: \u001b[32m8\u001b[39m,\u001b[33m\"\u001b[39m\u001b[33mobject_store_memory\u001b[39m\u001b[33m\"\u001b[39m: \u001b[32m2\u001b[39m*\u001b[32m1024\u001b[39m})\n\u001b[32m      7\u001b[39m df = sp.from_arrow(a_table)\n\u001b[32m----> \u001b[39m\u001b[32m8\u001b[39m \u001b[38;5;28mprint\u001b[39m(\u001b[43mdf\u001b[49m\u001b[43m.\u001b[49m\u001b[43mtake\u001b[49m\u001b[43m(\u001b[49m\u001b[32;43m10\u001b[39;49m\u001b[43m)\u001b[49m)\n",
      "\u001b[36mFile \u001b[39m\u001b[32m~/PycharmProjects/lightweight-analytics-duckdb-smallpond-oct2025/.venv/lib/python3.11/site-packages/smallpond/dataframe.py:671\u001b[39m, in \u001b[36mDataFrame.take\u001b[39m\u001b[34m(self, limit)\u001b[39m\n\u001b[32m    665\u001b[39m \u001b[38;5;250m\u001b[39m\u001b[33;03m\"\"\"\u001b[39;00m\n\u001b[32m    666\u001b[39m \u001b[33;03mReturn up to `limit` rows.\u001b[39;00m\n\u001b[32m    667\u001b[39m \n\u001b[32m    668\u001b[39m \u001b[33;03mThis operation will trigger execution of the lazy transformations performed on this DataFrame.\u001b[39;00m\n\u001b[32m    669\u001b[39m \u001b[33;03m\"\"\"\u001b[39;00m\n\u001b[32m    670\u001b[39m \u001b[38;5;28;01mif\u001b[39;00m \u001b[38;5;28mself\u001b[39m.is_computed() \u001b[38;5;129;01mor\u001b[39;00m \u001b[38;5;28misinstance\u001b[39m(\u001b[38;5;28mself\u001b[39m.plan, DataSourceNode):\n\u001b[32m--> \u001b[39m\u001b[32m671\u001b[39m     datasets = \u001b[38;5;28;43mself\u001b[39;49m\u001b[43m.\u001b[49m\u001b[43m_compute\u001b[49m\u001b[43m(\u001b[49m\u001b[43m)\u001b[49m\n\u001b[32m    672\u001b[39m \u001b[38;5;28;01melse\u001b[39;00m:\n\u001b[32m    673\u001b[39m     datasets = \u001b[38;5;28mself\u001b[39m.limit(limit)._compute()\n",
      "\u001b[36mFile \u001b[39m\u001b[32m~/PycharmProjects/lightweight-analytics-duckdb-smallpond-oct2025/.venv/lib/python3.11/site-packages/smallpond/dataframe.py:284\u001b[39m, in \u001b[36mDataFrame._compute\u001b[39m\u001b[34m(self)\u001b[39m\n\u001b[32m    282\u001b[39m \u001b[38;5;28;01mfor\u001b[39;00m retry_count \u001b[38;5;129;01min\u001b[39;00m \u001b[38;5;28mrange\u001b[39m(\u001b[32m3\u001b[39m):\n\u001b[32m    283\u001b[39m     \u001b[38;5;28;01mtry\u001b[39;00m:\n\u001b[32m--> \u001b[39m\u001b[32m284\u001b[39m         \u001b[38;5;28;01mreturn\u001b[39;00m \u001b[43mray\u001b[49m\u001b[43m.\u001b[49m\u001b[43mget\u001b[49m\u001b[43m(\u001b[49m\n\u001b[32m    285\u001b[39m \u001b[43m            \u001b[49m\u001b[43m[\u001b[49m\u001b[43mtask\u001b[49m\u001b[43m.\u001b[49m\u001b[43mrun_on_ray\u001b[49m\u001b[43m(\u001b[49m\u001b[43m)\u001b[49m\u001b[43m \u001b[49m\u001b[38;5;28;43;01mfor\u001b[39;49;00m\u001b[43m \u001b[49m\u001b[43mtask\u001b[49m\u001b[43m \u001b[49m\u001b[38;5;129;43;01min\u001b[39;49;00m\u001b[43m \u001b[49m\u001b[38;5;28;43mself\u001b[39;49m\u001b[43m.\u001b[49m\u001b[43m_get_or_create_tasks\u001b[49m\u001b[43m(\u001b[49m\u001b[43m)\u001b[49m\u001b[43m]\u001b[49m\n\u001b[32m    286\u001b[39m \u001b[43m        \u001b[49m\u001b[43m)\u001b[49m\n\u001b[32m    287\u001b[39m     \u001b[38;5;28;01mexcept\u001b[39;00m ray.exceptions.RuntimeEnvSetupError \u001b[38;5;28;01mas\u001b[39;00m e:\n\u001b[32m    288\u001b[39m         \u001b[38;5;66;03m# XXX: Ray may raise this error when a worker is interrupted.\u001b[39;00m\n\u001b[32m    289\u001b[39m         \u001b[38;5;66;03m#      ```\u001b[39;00m\n\u001b[32m   (...)\u001b[39m\u001b[32m    295\u001b[39m         \u001b[38;5;66;03m#      However, since Ray dropped support for Python 3.8 since 2.11, we can not upgrade Ray.\u001b[39;00m\n\u001b[32m    296\u001b[39m         \u001b[38;5;66;03m#      So we catch this error and retry by ourselves.\u001b[39;00m\n\u001b[32m    297\u001b[39m         logger.error(\u001b[33mf\u001b[39m\u001b[33m\"\u001b[39m\u001b[33mfound ray RuntimeEnvSetupError, retrying...\u001b[39m\u001b[38;5;130;01m\\n\u001b[39;00m\u001b[38;5;132;01m{\u001b[39;00me\u001b[38;5;132;01m}\u001b[39;00m\u001b[33m\"\u001b[39m)\n",
      "\u001b[36mFile \u001b[39m\u001b[32m~/PycharmProjects/lightweight-analytics-duckdb-smallpond-oct2025/.venv/lib/python3.11/site-packages/ray/_private/auto_init_hook.py:21\u001b[39m, in \u001b[36mwrap_auto_init.<locals>.auto_init_wrapper\u001b[39m\u001b[34m(*args, **kwargs)\u001b[39m\n\u001b[32m     18\u001b[39m \u001b[38;5;129m@wraps\u001b[39m(fn)\n\u001b[32m     19\u001b[39m \u001b[38;5;28;01mdef\u001b[39;00m\u001b[38;5;250m \u001b[39m\u001b[34mauto_init_wrapper\u001b[39m(*args, **kwargs):\n\u001b[32m     20\u001b[39m     auto_init_ray()\n\u001b[32m---> \u001b[39m\u001b[32m21\u001b[39m     \u001b[38;5;28;01mreturn\u001b[39;00m \u001b[43mfn\u001b[49m\u001b[43m(\u001b[49m\u001b[43m*\u001b[49m\u001b[43margs\u001b[49m\u001b[43m,\u001b[49m\u001b[43m \u001b[49m\u001b[43m*\u001b[49m\u001b[43m*\u001b[49m\u001b[43mkwargs\u001b[49m\u001b[43m)\u001b[49m\n",
      "\u001b[36mFile \u001b[39m\u001b[32m~/PycharmProjects/lightweight-analytics-duckdb-smallpond-oct2025/.venv/lib/python3.11/site-packages/ray/_private/client_mode_hook.py:102\u001b[39m, in \u001b[36mclient_mode_hook.<locals>.wrapper\u001b[39m\u001b[34m(*args, **kwargs)\u001b[39m\n\u001b[32m     98\u001b[39m \u001b[38;5;28;01mif\u001b[39;00m client_mode_should_convert():\n\u001b[32m     99\u001b[39m     \u001b[38;5;66;03m# Legacy code\u001b[39;00m\n\u001b[32m    100\u001b[39m     \u001b[38;5;66;03m# we only convert init function if RAY_CLIENT_MODE=1\u001b[39;00m\n\u001b[32m    101\u001b[39m     \u001b[38;5;28;01mif\u001b[39;00m func.\u001b[34m__name__\u001b[39m != \u001b[33m\"\u001b[39m\u001b[33minit\u001b[39m\u001b[33m\"\u001b[39m \u001b[38;5;129;01mor\u001b[39;00m is_client_mode_enabled_by_default:\n\u001b[32m--> \u001b[39m\u001b[32m102\u001b[39m         \u001b[38;5;28;01mreturn\u001b[39;00m \u001b[38;5;28;43mgetattr\u001b[39;49m\u001b[43m(\u001b[49m\u001b[43mray\u001b[49m\u001b[43m,\u001b[49m\u001b[43m \u001b[49m\u001b[43mfunc\u001b[49m\u001b[43m.\u001b[49m\u001b[34;43m__name__\u001b[39;49m\u001b[43m)\u001b[49m\u001b[43m(\u001b[49m\u001b[43m*\u001b[49m\u001b[43margs\u001b[49m\u001b[43m,\u001b[49m\u001b[43m \u001b[49m\u001b[43m*\u001b[49m\u001b[43m*\u001b[49m\u001b[43mkwargs\u001b[49m\u001b[43m)\u001b[49m\n\u001b[32m    103\u001b[39m \u001b[38;5;28;01mreturn\u001b[39;00m func(*args, **kwargs)\n",
      "\u001b[36mFile \u001b[39m\u001b[32m~/PycharmProjects/lightweight-analytics-duckdb-smallpond-oct2025/.venv/lib/python3.11/site-packages/ray/util/client/api.py:42\u001b[39m, in \u001b[36m_ClientAPI.get\u001b[39m\u001b[34m(self, vals, timeout)\u001b[39m\n\u001b[32m     35\u001b[39m \u001b[38;5;28;01mdef\u001b[39;00m\u001b[38;5;250m \u001b[39m\u001b[34mget\u001b[39m(\u001b[38;5;28mself\u001b[39m, vals, *, timeout=\u001b[38;5;28;01mNone\u001b[39;00m):\n\u001b[32m     36\u001b[39m \u001b[38;5;250m    \u001b[39m\u001b[33;03m\"\"\"get is the hook stub passed on to replace `ray.get`\u001b[39;00m\n\u001b[32m     37\u001b[39m \n\u001b[32m     38\u001b[39m \u001b[33;03m    Args:\u001b[39;00m\n\u001b[32m     39\u001b[39m \u001b[33;03m        vals: [Client]ObjectRef or list of these refs to retrieve.\u001b[39;00m\n\u001b[32m     40\u001b[39m \u001b[33;03m        timeout: Optional timeout in milliseconds\u001b[39;00m\n\u001b[32m     41\u001b[39m \u001b[33;03m    \"\"\"\u001b[39;00m\n\u001b[32m---> \u001b[39m\u001b[32m42\u001b[39m     \u001b[38;5;28;01mreturn\u001b[39;00m \u001b[38;5;28;43mself\u001b[39;49m\u001b[43m.\u001b[49m\u001b[43mworker\u001b[49m\u001b[43m.\u001b[49m\u001b[43mget\u001b[49m\u001b[43m(\u001b[49m\u001b[43mvals\u001b[49m\u001b[43m,\u001b[49m\u001b[43m \u001b[49m\u001b[43mtimeout\u001b[49m\u001b[43m=\u001b[49m\u001b[43mtimeout\u001b[49m\u001b[43m)\u001b[49m\n",
      "\u001b[36mFile \u001b[39m\u001b[32m~/PycharmProjects/lightweight-analytics-duckdb-smallpond-oct2025/.venv/lib/python3.11/site-packages/ray/util/client/worker.py:433\u001b[39m, in \u001b[36mWorker.get\u001b[39m\u001b[34m(self, vals, timeout)\u001b[39m\n\u001b[32m    431\u001b[39m     op_timeout = max_blocking_operation_time\n\u001b[32m    432\u001b[39m \u001b[38;5;28;01mtry\u001b[39;00m:\n\u001b[32m--> \u001b[39m\u001b[32m433\u001b[39m     res = \u001b[38;5;28;43mself\u001b[39;49m\u001b[43m.\u001b[49m\u001b[43m_get\u001b[49m\u001b[43m(\u001b[49m\u001b[43mto_get\u001b[49m\u001b[43m,\u001b[49m\u001b[43m \u001b[49m\u001b[43mop_timeout\u001b[49m\u001b[43m)\u001b[49m\n\u001b[32m    434\u001b[39m     \u001b[38;5;28;01mbreak\u001b[39;00m\n\u001b[32m    435\u001b[39m \u001b[38;5;28;01mexcept\u001b[39;00m GetTimeoutError:\n",
      "\u001b[36mFile \u001b[39m\u001b[32m~/PycharmProjects/lightweight-analytics-duckdb-smallpond-oct2025/.venv/lib/python3.11/site-packages/ray/util/client/worker.py:461\u001b[39m, in \u001b[36mWorker._get\u001b[39m\u001b[34m(self, ref, timeout)\u001b[39m\n\u001b[32m    459\u001b[39m         logger.exception(\u001b[33m\"\u001b[39m\u001b[33mFailed to deserialize \u001b[39m\u001b[38;5;132;01m{}\u001b[39;00m\u001b[33m\"\u001b[39m.format(chunk.error))\n\u001b[32m    460\u001b[39m         \u001b[38;5;28;01mraise\u001b[39;00m\n\u001b[32m--> \u001b[39m\u001b[32m461\u001b[39m     \u001b[38;5;28;01mraise\u001b[39;00m err\n\u001b[32m    462\u001b[39m \u001b[38;5;28;01mif\u001b[39;00m chunk.total_size > OBJECT_TRANSFER_WARNING_SIZE \u001b[38;5;129;01mand\u001b[39;00m log_once(\n\u001b[32m    463\u001b[39m     \u001b[33m\"\u001b[39m\u001b[33mclient_object_transfer_size_warning\u001b[39m\u001b[33m\"\u001b[39m\n\u001b[32m    464\u001b[39m ):\n\u001b[32m    465\u001b[39m     size_gb = chunk.total_size / \u001b[32m2\u001b[39m**\u001b[32m30\u001b[39m\n",
      "\u001b[31mRayTaskError(FileNotFoundError)\u001b[39m: \u001b[36mray::000001.DataSourceTask()\u001b[39m (pid=465, ip=172.18.0.3)\n  File \"/Users/valeryca/PycharmProjects/lightweight-analytics-duckdb-smallpond-oct2025/.venv/lib/python3.11/site-packages/smallpond/execution/task.py\", line 1152, in exec_task\n  File \"/home/ray/anaconda3/lib/python3.11/pathlib.py\", line 1108, in touch\n    fd = os.open(self, flags, mode)\n         ^^^^^^^^^^^^^^^^^^^^^^^^^^\nFileNotFoundError: [Errno 2] No such file or directory: '/Users/valeryca/PycharmProjects/lightweight-analytics-duckdb-smallpond-oct2025/workshop/notebooks/data/2025-10-23-11-16-42.16c098be-78b2-4ea9-bcc7-2c8d55556e39/staging/started_tasks/000001.DataSourceTask-000001.0'"
     ]
    },
    {
     "name": "stderr",
     "output_type": "stream",
     "text": [
      "I0000 00:00:1761239862.798041  774232 fork_posix.cc:71] Other threads are currently calling into gRPC, skipping fork() handlers\n",
      "2025-10-23 11:17:42,810\tWARNING api.py:293 -- Timeline will include events from other clients using this server.\n"
     ]
    },
    {
     "name": "stdout",
     "output_type": "stream",
     "text": [
      "[2025-10-23 11:17:42.809611] [ZG-KPVW7DJYWV] [MainProcess(47988)] [session.py:264] WARNING graphviz is not installed, skipping graph dump\n",
      "[2025-10-23 11:17:43.843087] [ZG-KPVW7DJYWV] [MainProcess(47988)] [session.py:315] INFO progress: 1/1 tasks (100.0%)\n"
     ]
    },
    {
     "name": "stderr",
     "output_type": "stream",
     "text": [
      "I0000 00:00:1761239923.850388  774232 fork_posix.cc:71] Other threads are currently calling into gRPC, skipping fork() handlers\n",
      "2025-10-23 11:18:43,857\tWARNING api.py:293 -- Timeline will include events from other clients using this server.\n"
     ]
    },
    {
     "name": "stdout",
     "output_type": "stream",
     "text": [
      "[2025-10-23 11:18:43.857168] [ZG-KPVW7DJYWV] [MainProcess(47988)] [session.py:264] WARNING graphviz is not installed, skipping graph dump\n",
      "[2025-10-23 11:18:44.878190] [ZG-KPVW7DJYWV] [MainProcess(47988)] [session.py:315] INFO progress: 1/1 tasks (100.0%)\n"
     ]
    },
    {
     "name": "stderr",
     "output_type": "stream",
     "text": [
      "I0000 00:00:1761239984.880564  774232 fork_posix.cc:71] Other threads are currently calling into gRPC, skipping fork() handlers\n",
      "2025-10-23 11:19:44,887\tWARNING api.py:293 -- Timeline will include events from other clients using this server.\n"
     ]
    },
    {
     "name": "stdout",
     "output_type": "stream",
     "text": [
      "[2025-10-23 11:19:44.887216] [ZG-KPVW7DJYWV] [MainProcess(47988)] [session.py:264] WARNING graphviz is not installed, skipping graph dump\n",
      "[2025-10-23 11:19:45.905800] [ZG-KPVW7DJYWV] [MainProcess(47988)] [session.py:315] INFO progress: 1/1 tasks (100.0%)\n"
     ]
    }
   ],
   "source": [
    "# Initialize Ray\n",
    "ray.init(address=\"ray://localhost:10001\")\n",
    "\n",
    "# Smallpond is pointing the ray head at ray://localhost:10001\n",
    "sp = smallpond_init(job_name=\"ProcessingTest\", ray_address=\"ray://localhost:10001\", data_root=\"data\", num_executors=2, bind_numa_node=False, executor_resources={\"CPU\": 4,\"memory\": 8,\"object_store_memory\": 2*1024})\n",
    "\n",
    "df = sp.from_arrow(a_table)\n",
    "print(df.take(10))\n",
    "\n",
    "\n"
   ]
  },
  {
   "cell_type": "code",
   "execution_count": null,
   "id": "1ada0145-58ed-4476-a085-d57cd5ae2439",
   "metadata": {},
   "outputs": [],
   "source": [
    "# Shuts down Ray\n",
    "ray.shutdown()"
   ]
  },
  {
   "cell_type": "markdown",
   "id": "88ed815d69bfd4f3",
   "metadata": {},
   "source": [
    "### Now let's check the Smallpond Dashboard"
   ]
  }
 ],
 "metadata": {
  "kernelspec": {
   "display_name": "Python 3 (ipykernel)",
   "language": "python",
   "name": "python3"
  },
  "language_info": {
   "codemirror_mode": {
    "name": "ipython",
    "version": 3
   },
   "file_extension": ".py",
   "mimetype": "text/x-python",
   "name": "python",
   "nbconvert_exporter": "python",
   "pygments_lexer": "ipython3",
   "version": "3.11.11"
  }
 },
 "nbformat": 4,
 "nbformat_minor": 5
}
